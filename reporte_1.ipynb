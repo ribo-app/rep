{
 "cells": [
  {
   "cell_type": "code",
   "execution_count": 44,
   "metadata": {},
   "outputs": [
    {
     "data": {
      "text/html": [
       "<style  type=\"text/css\" >\n",
       "</style>  \n",
       "<table id=\"T_91d49570_f0cb_11e9_9d78_f40f24040e23\" > \n",
       "<thead>    <tr> \n",
       "        <th class=\"col_heading level0 col0\" >_id/month</th> \n",
       "        <th class=\"col_heading level0 col1\" >_id/year</th> \n",
       "        <th class=\"col_heading level0 col2\" >total_fee</th> \n",
       "        <th class=\"col_heading level0 col3\" >total_management_interest</th> \n",
       "        <th class=\"col_heading level0 col4\" >total_management_fee</th> \n",
       "        <th class=\"col_heading level0 col5\" >total_income</th> \n",
       "        <th class=\"col_heading level0 col6\" >total_cost</th> \n",
       "        <th class=\"col_heading level0 col7\" >utilidad</th> \n",
       "    </tr></thead> \n",
       "<tbody>    <tr> \n",
       "        <td id=\"T_91d49570_f0cb_11e9_9d78_f40f24040e23row0_col0\" class=\"data row0 col0\" >10</td> \n",
       "        <td id=\"T_91d49570_f0cb_11e9_9d78_f40f24040e23row0_col1\" class=\"data row0 col1\" >2019</td> \n",
       "        <td id=\"T_91d49570_f0cb_11e9_9d78_f40f24040e23row0_col2\" class=\"data row0 col2\" >0</td> \n",
       "        <td id=\"T_91d49570_f0cb_11e9_9d78_f40f24040e23row0_col3\" class=\"data row0 col3\" >21.5101</td> \n",
       "        <td id=\"T_91d49570_f0cb_11e9_9d78_f40f24040e23row0_col4\" class=\"data row0 col4\" >160.669</td> \n",
       "        <td id=\"T_91d49570_f0cb_11e9_9d78_f40f24040e23row0_col5\" class=\"data row0 col5\" >182.179</td> \n",
       "        <td id=\"T_91d49570_f0cb_11e9_9d78_f40f24040e23row0_col6\" class=\"data row0 col6\" >181</td> \n",
       "        <td id=\"T_91d49570_f0cb_11e9_9d78_f40f24040e23row0_col7\" class=\"data row0 col7\" >1.1793</td> \n",
       "    </tr>    <tr> \n",
       "        <td id=\"T_91d49570_f0cb_11e9_9d78_f40f24040e23row1_col0\" class=\"data row1 col0\" >5</td> \n",
       "        <td id=\"T_91d49570_f0cb_11e9_9d78_f40f24040e23row1_col1\" class=\"data row1 col1\" >2019</td> \n",
       "        <td id=\"T_91d49570_f0cb_11e9_9d78_f40f24040e23row1_col2\" class=\"data row1 col2\" >329.56</td> \n",
       "        <td id=\"T_91d49570_f0cb_11e9_9d78_f40f24040e23row1_col3\" class=\"data row1 col3\" >0</td> \n",
       "        <td id=\"T_91d49570_f0cb_11e9_9d78_f40f24040e23row1_col4\" class=\"data row1 col4\" >0</td> \n",
       "        <td id=\"T_91d49570_f0cb_11e9_9d78_f40f24040e23row1_col5\" class=\"data row1 col5\" >329.56</td> \n",
       "        <td id=\"T_91d49570_f0cb_11e9_9d78_f40f24040e23row1_col6\" class=\"data row1 col6\" >0</td> \n",
       "        <td id=\"T_91d49570_f0cb_11e9_9d78_f40f24040e23row1_col7\" class=\"data row1 col7\" >329.56</td> \n",
       "    </tr>    <tr> \n",
       "        <td id=\"T_91d49570_f0cb_11e9_9d78_f40f24040e23row2_col0\" class=\"data row2 col0\" >9</td> \n",
       "        <td id=\"T_91d49570_f0cb_11e9_9d78_f40f24040e23row2_col1\" class=\"data row2 col1\" >2019</td> \n",
       "        <td id=\"T_91d49570_f0cb_11e9_9d78_f40f24040e23row2_col2\" class=\"data row2 col2\" >219.254</td> \n",
       "        <td id=\"T_91d49570_f0cb_11e9_9d78_f40f24040e23row2_col3\" class=\"data row2 col3\" >720.642</td> \n",
       "        <td id=\"T_91d49570_f0cb_11e9_9d78_f40f24040e23row2_col4\" class=\"data row2 col4\" >1365.84</td> \n",
       "        <td id=\"T_91d49570_f0cb_11e9_9d78_f40f24040e23row2_col5\" class=\"data row2 col5\" >2305.74</td> \n",
       "        <td id=\"T_91d49570_f0cb_11e9_9d78_f40f24040e23row2_col6\" class=\"data row2 col6\" >1024</td> \n",
       "        <td id=\"T_91d49570_f0cb_11e9_9d78_f40f24040e23row2_col7\" class=\"data row2 col7\" >1281.74</td> \n",
       "    </tr>    <tr> \n",
       "        <td id=\"T_91d49570_f0cb_11e9_9d78_f40f24040e23row3_col0\" class=\"data row3 col0\" >7</td> \n",
       "        <td id=\"T_91d49570_f0cb_11e9_9d78_f40f24040e23row3_col1\" class=\"data row3 col1\" >2019</td> \n",
       "        <td id=\"T_91d49570_f0cb_11e9_9d78_f40f24040e23row3_col2\" class=\"data row3 col2\" >959.07</td> \n",
       "        <td id=\"T_91d49570_f0cb_11e9_9d78_f40f24040e23row3_col3\" class=\"data row3 col3\" >148.785</td> \n",
       "        <td id=\"T_91d49570_f0cb_11e9_9d78_f40f24040e23row3_col4\" class=\"data row3 col4\" >90.6853</td> \n",
       "        <td id=\"T_91d49570_f0cb_11e9_9d78_f40f24040e23row3_col5\" class=\"data row3 col5\" >1198.54</td> \n",
       "        <td id=\"T_91d49570_f0cb_11e9_9d78_f40f24040e23row3_col6\" class=\"data row3 col6\" >72</td> \n",
       "        <td id=\"T_91d49570_f0cb_11e9_9d78_f40f24040e23row3_col7\" class=\"data row3 col7\" >1126.54</td> \n",
       "    </tr>    <tr> \n",
       "        <td id=\"T_91d49570_f0cb_11e9_9d78_f40f24040e23row4_col0\" class=\"data row4 col0\" >8</td> \n",
       "        <td id=\"T_91d49570_f0cb_11e9_9d78_f40f24040e23row4_col1\" class=\"data row4 col1\" >2019</td> \n",
       "        <td id=\"T_91d49570_f0cb_11e9_9d78_f40f24040e23row4_col2\" class=\"data row4 col2\" >1731.25</td> \n",
       "        <td id=\"T_91d49570_f0cb_11e9_9d78_f40f24040e23row4_col3\" class=\"data row4 col3\" >151.516</td> \n",
       "        <td id=\"T_91d49570_f0cb_11e9_9d78_f40f24040e23row4_col4\" class=\"data row4 col4\" >200.737</td> \n",
       "        <td id=\"T_91d49570_f0cb_11e9_9d78_f40f24040e23row4_col5\" class=\"data row4 col5\" >2083.51</td> \n",
       "        <td id=\"T_91d49570_f0cb_11e9_9d78_f40f24040e23row4_col6\" class=\"data row4 col6\" >333</td> \n",
       "        <td id=\"T_91d49570_f0cb_11e9_9d78_f40f24040e23row4_col7\" class=\"data row4 col7\" >1750.51</td> \n",
       "    </tr>    <tr> \n",
       "        <td id=\"T_91d49570_f0cb_11e9_9d78_f40f24040e23row5_col0\" class=\"data row5 col0\" >6</td> \n",
       "        <td id=\"T_91d49570_f0cb_11e9_9d78_f40f24040e23row5_col1\" class=\"data row5 col1\" >2019</td> \n",
       "        <td id=\"T_91d49570_f0cb_11e9_9d78_f40f24040e23row5_col2\" class=\"data row5 col2\" >78.96</td> \n",
       "        <td id=\"T_91d49570_f0cb_11e9_9d78_f40f24040e23row5_col3\" class=\"data row5 col3\" >102.136</td> \n",
       "        <td id=\"T_91d49570_f0cb_11e9_9d78_f40f24040e23row5_col4\" class=\"data row5 col4\" >136.074</td> \n",
       "        <td id=\"T_91d49570_f0cb_11e9_9d78_f40f24040e23row5_col5\" class=\"data row5 col5\" >317.17</td> \n",
       "        <td id=\"T_91d49570_f0cb_11e9_9d78_f40f24040e23row5_col6\" class=\"data row5 col6\" >0</td> \n",
       "        <td id=\"T_91d49570_f0cb_11e9_9d78_f40f24040e23row5_col7\" class=\"data row5 col7\" >317.17</td> \n",
       "    </tr></tbody> \n",
       "</table> "
      ],
      "text/plain": [
       "<pandas.io.formats.style.Styler at 0x116e534e0>"
      ]
     },
     "execution_count": 44,
     "metadata": {},
     "output_type": "execute_result"
    }
   ],
   "source": [
    "import pandas as pd \n",
    "import financial_reports as fr\n",
    "\n",
    "fr.p_and_l_results(\"resultados.csv\")\n",
    "\n",
    "\n"
   ]
  },
  {
   "cell_type": "code",
   "execution_count": null,
   "metadata": {},
   "outputs": [],
   "source": []
  },
  {
   "cell_type": "code",
   "execution_count": null,
   "metadata": {},
   "outputs": [],
   "source": []
  },
  {
   "cell_type": "code",
   "execution_count": null,
   "metadata": {},
   "outputs": [],
   "source": []
  },
  {
   "cell_type": "code",
   "execution_count": null,
   "metadata": {},
   "outputs": [],
   "source": []
  },
  {
   "cell_type": "code",
   "execution_count": null,
   "metadata": {},
   "outputs": [],
   "source": []
  },
  {
   "cell_type": "code",
   "execution_count": null,
   "metadata": {},
   "outputs": [],
   "source": []
  }
 ],
 "metadata": {
  "kernelspec": {
   "display_name": "Python 3",
   "language": "python",
   "name": "python3"
  },
  "language_info": {
   "codemirror_mode": {
    "name": "ipython",
    "version": 3
   },
   "file_extension": ".py",
   "mimetype": "text/x-python",
   "name": "python",
   "nbconvert_exporter": "python",
   "pygments_lexer": "ipython3",
   "version": "3.7.1"
  }
 },
 "nbformat": 4,
 "nbformat_minor": 2
}
